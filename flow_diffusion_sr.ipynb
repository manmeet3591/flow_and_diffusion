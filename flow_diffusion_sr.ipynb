{
 "cells": [
  {
   "cell_type": "code",
   "execution_count": 1,
   "metadata": {},
   "outputs": [
    {
     "name": "stdout",
     "output_type": "stream",
     "text": [
      "/mnt\n"
     ]
    }
   ],
   "source": [
    "!pwd"
   ]
  },
  {
   "cell_type": "code",
   "execution_count": 3,
   "metadata": {},
   "outputs": [],
   "source": [
    "import xarray as xr\n",
    "import numpy as np\n",
    "ds_dmsp = xr.open_dataset('/mnt/dmsp_2012_austin.nc').constant\n",
    "ds_viirs = xr.open_dataset('/mnt/viirs_2012_austin.nc').avg_rad"
   ]
  },
  {
   "cell_type": "code",
   "execution_count": 5,
   "metadata": {},
   "outputs": [],
   "source": [
    "x_train = ds_viirs.values.astype(np.float32)\n",
    "y_train = ds_dmsp.values[0,:,:].astype(np.float32)"
   ]
  },
  {
   "cell_type": "code",
   "execution_count": 6,
   "metadata": {},
   "outputs": [],
   "source": [
    "import numpy as np\n",
    "\n",
    "def unpatchify(patches, img_shape):\n",
    "    patch_size = patches.shape[1]\n",
    "    assert patches.shape[0] == (img_shape[0] // patch_size) * (img_shape[1] // patch_size), \"Patches and image shape are not compatible\"\n",
    "\n",
    "    img = np.zeros(img_shape, dtype=patches.dtype)\n",
    "    patch_idx = 0\n",
    "\n",
    "    for i in range(0, img_shape[0], patch_size):\n",
    "        for j in range(0, img_shape[1], patch_size):\n",
    "            img[i:i + patch_size, j:j + patch_size] = patches[patch_idx]\n",
    "            patch_idx += 1\n",
    "\n",
    "    return img\n",
    "\n",
    "def patchify(img, patch_size):\n",
    "    img_shape = img.shape\n",
    "    patches = np.array([img[i:i + patch_size, j:j + patch_size] for i in range(0, img_shape[0], patch_size) for j in range(0, img_shape[1], patch_size)])\n",
    "    return patches"
   ]
  },
  {
   "cell_type": "code",
   "execution_count": 7,
   "metadata": {},
   "outputs": [],
   "source": [
    "import torch\n",
    "from torch import nn\n",
    "from torch.utils.data import DataLoader, Dataset\n",
    "from torchvision import transforms\n",
    "import torch.optim as optim\n",
    "class ncDataset(Dataset):\n",
    "    def __init__(self, data, targets):\n",
    "        self.data = data\n",
    "        self.targets = targets\n",
    "\n",
    "    def __getitem__(self, index):\n",
    "        x = torch.from_numpy(self.data[index]).unsqueeze(0)\n",
    "        y = torch.from_numpy(self.targets[index]).unsqueeze(0)\n",
    "        # x = self.data[index]\n",
    "        # y = self.targets[index]\n",
    "        # x = x.to(dtype=torch.float32)\n",
    "        # y = y.to(dtype=torch.float32)\n",
    "        return x, y\n",
    "\n",
    "    def __len__(self):\n",
    "        return len(self.data)"
   ]
  },
  {
   "cell_type": "code",
   "execution_count": 8,
   "metadata": {},
   "outputs": [],
   "source": [
    "def train(model, train_dataloader, val_dataloader, criterion, optimizer, device):\n",
    "    model.train()\n",
    "    train_loss = 0.0\n",
    "    for batch in train_dataloader:\n",
    "        lr, hr = batch\n",
    "        lr, hr = lr.to(device), hr.to(device)\n",
    "        optimizer.zero_grad()\n",
    "        sr = model(lr)\n",
    "        loss = criterion(sr, hr)\n",
    "        loss.backward()\n",
    "        optimizer.step()\n",
    "        train_loss += loss.item()\n",
    "\n",
    "    train_loss /= len(train_dataloader)\n",
    "\n",
    "    # Validation\n",
    "    model.eval()\n",
    "    val_loss = 0.0\n",
    "    with torch.no_grad():\n",
    "        for batch in val_dataloader:\n",
    "            lr, hr = batch\n",
    "            lr, hr = lr.to(device), hr.to(device)\n",
    "            sr = model(lr)\n",
    "            loss = criterion(sr, hr)\n",
    "            val_loss += loss.item()\n",
    "\n",
    "    val_loss /= len(val_dataloader)\n",
    "\n",
    "    return train_loss, val_loss"
   ]
  },
  {
   "cell_type": "code",
   "execution_count": 9,
   "metadata": {},
   "outputs": [],
   "source": [
    "# Create patches from the image\n",
    "patch_size = 32\n",
    "img = x_train[:576,:576]\n",
    "patches = patchify(img, patch_size)"
   ]
  },
  {
   "cell_type": "code",
   "execution_count": 10,
   "metadata": {},
   "outputs": [],
   "source": [
    "# Reconstruct the image from the patches\n",
    "reconstructed_img = unpatchify(patches, img.shape)"
   ]
  },
  {
   "cell_type": "code",
   "execution_count": 11,
   "metadata": {},
   "outputs": [],
   "source": [
    "# Check if the reconstructed image is the same as the original image\n",
    "assert np.allclose(reconstructed_img, img), \"The reconstructed image is not the same as the original image\""
   ]
  },
  {
   "cell_type": "code",
   "execution_count": 12,
   "metadata": {},
   "outputs": [
    {
     "data": {
      "text/plain": [
       "(324, 32, 32)"
      ]
     },
     "execution_count": 12,
     "metadata": {},
     "output_type": "execute_result"
    }
   ],
   "source": [
    "x_train_max = x_train.max()\n",
    "y_train_max = y_train.max()\n",
    "x_train /= x_train_max\n",
    "y_train /= y_train_max\n",
    "\n",
    "x_train_patches = patchify(x_train[:576,:576], patch_size)\n",
    "y_train_patches = patchify(y_train[:576,:576], patch_size)\n",
    "x_train_patches.shape"
   ]
  },
  {
   "cell_type": "code",
   "execution_count": 13,
   "metadata": {},
   "outputs": [],
   "source": [
    "x_val_patches = x_train_patches[200:300]\n",
    "y_val_patches = y_train_patches[200:300]\n",
    "\n",
    "x_test_patches = x_train_patches[300:]\n",
    "y_test_patches = y_train_patches[300:]\n",
    "\n",
    "x_train_patches = x_train_patches[:200]\n",
    "\n",
    "y_train_patches = y_train_patches[:200]"
   ]
  },
  {
   "cell_type": "markdown",
   "metadata": {},
   "source": [
    "# SRCNN"
   ]
  },
  {
   "cell_type": "code",
   "execution_count": 14,
   "metadata": {},
   "outputs": [],
   "source": [
    "class SRCNN(nn.Module):\n",
    "    def __init__(self):\n",
    "        super(SRCNN, self).__init__()\n",
    "        self.conv1 = nn.Conv2d(1, 64, kernel_size=9, padding=4)\n",
    "        self.conv2 = nn.Conv2d(64, 32, kernel_size=1, padding=0)\n",
    "        self.conv3 = nn.Conv2d(32, 1, kernel_size=5, padding=2)\n",
    "        self.relu = nn.ReLU()\n",
    "\n",
    "    def forward(self, x):\n",
    "        x = self.relu(self.conv1(x))\n",
    "        x = self.relu(self.conv2(x))\n",
    "        x = self.conv3(x)\n",
    "        return x"
   ]
  },
  {
   "cell_type": "code",
   "execution_count": 15,
   "metadata": {},
   "outputs": [],
   "source": [
    "train_dataset = ncDataset(x_train_patches, y_train_patches)\n",
    "val_dataset = ncDataset(x_val_patches, y_val_patches)\n",
    "test_dataset = ncDataset(x_val_patches, y_val_patches)"
   ]
  },
  {
   "cell_type": "code",
   "execution_count": 16,
   "metadata": {},
   "outputs": [
    {
     "name": "stdout",
     "output_type": "stream",
     "text": [
      "torch.Size([1, 32, 32]) torch.Size([1, 32, 32]) 200\n"
     ]
    }
   ],
   "source": [
    "lr, hr = train_dataset.__getitem__(0)\n",
    "print(lr.shape, hr.shape, train_dataset.__len__())"
   ]
  },
  {
   "cell_type": "code",
   "execution_count": 17,
   "metadata": {},
   "outputs": [],
   "source": [
    "train_dataloader = DataLoader(train_dataset, batch_size=20, shuffle=True)\n",
    "val_dataloader = DataLoader(val_dataset, batch_size=20, shuffle=True)\n",
    "test_dataloader = DataLoader(test_dataset, batch_size=20, shuffle=True)"
   ]
  },
  {
   "cell_type": "code",
   "execution_count": 18,
   "metadata": {},
   "outputs": [
    {
     "name": "stdout",
     "output_type": "stream",
     "text": [
      "torch.Size([20, 1, 32, 32])\n",
      "torch.Size([20, 1, 32, 32])\n"
     ]
    }
   ],
   "source": [
    "for batch in train_dataloader:\n",
    "    data, targets = batch\n",
    "    print(data.size())  # Should print torch.Size([16, 1, 30, 30])\n",
    "    print(targets.size())  # Should print torch.Size([16, 1, 30, 601])\n",
    "    break"
   ]
  },
  {
   "cell_type": "code",
   "execution_count": 19,
   "metadata": {},
   "outputs": [],
   "source": [
    "# Initialize the model, loss function, and optimizer\n",
    "device = 'cuda'\n",
    "model = SRCNN().to(device)\n",
    "criterion = nn.MSELoss()\n",
    "optimizer = optim.Adam(model.parameters(), lr=0.001)"
   ]
  },
  {
   "cell_type": "code",
   "execution_count": 23,
   "metadata": {},
   "outputs": [
    {
     "name": "stdout",
     "output_type": "stream",
     "text": [
      "Epoch [10/1000] - Train Loss: 0.0016, Validation Loss: 0.0096\n",
      "Epoch [20/1000] - Train Loss: 0.0016, Validation Loss: 0.0098\n",
      "Epoch [30/1000] - Train Loss: 0.0015, Validation Loss: 0.0085\n",
      "Epoch [40/1000] - Train Loss: 0.0016, Validation Loss: 0.0085\n",
      "Epoch [50/1000] - Train Loss: 0.0015, Validation Loss: 0.0081\n",
      "Epoch [60/1000] - Train Loss: 0.0017, Validation Loss: 0.0083\n",
      "Epoch [70/1000] - Train Loss: 0.0016, Validation Loss: 0.0080\n",
      "Epoch [80/1000] - Train Loss: 0.0015, Validation Loss: 0.0089\n",
      "Epoch [90/1000] - Train Loss: 0.0016, Validation Loss: 0.0087\n",
      "Epoch [100/1000] - Train Loss: 0.0015, Validation Loss: 0.0103\n",
      "Epoch [110/1000] - Train Loss: 0.0015, Validation Loss: 0.0089\n",
      "Epoch [120/1000] - Train Loss: 0.0015, Validation Loss: 0.0077\n",
      "Epoch [130/1000] - Train Loss: 0.0014, Validation Loss: 0.0082\n",
      "Epoch [140/1000] - Train Loss: 0.0014, Validation Loss: 0.0087\n",
      "Epoch [150/1000] - Train Loss: 0.0016, Validation Loss: 0.0091\n",
      "Epoch [160/1000] - Train Loss: 0.0014, Validation Loss: 0.0102\n",
      "Epoch [170/1000] - Train Loss: 0.0014, Validation Loss: 0.0084\n",
      "Epoch [180/1000] - Train Loss: 0.0014, Validation Loss: 0.0076\n",
      "Epoch [190/1000] - Train Loss: 0.0015, Validation Loss: 0.0084\n",
      "Epoch [200/1000] - Train Loss: 0.0014, Validation Loss: 0.0070\n",
      "Epoch [210/1000] - Train Loss: 0.0013, Validation Loss: 0.0084\n",
      "Epoch [220/1000] - Train Loss: 0.0015, Validation Loss: 0.0085\n",
      "Epoch [230/1000] - Train Loss: 0.0014, Validation Loss: 0.0073\n",
      "Epoch [240/1000] - Train Loss: 0.0014, Validation Loss: 0.0086\n",
      "Epoch [250/1000] - Train Loss: 0.0013, Validation Loss: 0.0082\n",
      "Epoch [260/1000] - Train Loss: 0.0013, Validation Loss: 0.0081\n",
      "Epoch [270/1000] - Train Loss: 0.0014, Validation Loss: 0.0094\n",
      "Epoch [280/1000] - Train Loss: 0.0013, Validation Loss: 0.0099\n",
      "Epoch [290/1000] - Train Loss: 0.0014, Validation Loss: 0.0079\n",
      "Epoch [300/1000] - Train Loss: 0.0013, Validation Loss: 0.0081\n",
      "Epoch [310/1000] - Train Loss: 0.0014, Validation Loss: 0.0089\n",
      "Epoch [320/1000] - Train Loss: 0.0014, Validation Loss: 0.0085\n",
      "Epoch [330/1000] - Train Loss: 0.0013, Validation Loss: 0.0076\n",
      "Early stopping triggered.\n"
     ]
    }
   ],
   "source": [
    "from copy import deepcopy\n",
    "\n",
    "is_train = True\n",
    "num_epochs = 1000\n",
    "print_interval = 10\n",
    "patience = 50\n",
    "best_val_loss = float('inf')\n",
    "counter = 0\n",
    "best_model = None\n",
    "\n",
    "if is_train:\n",
    "    for epoch in range(1, num_epochs + 1):\n",
    "        train_loss, val_loss = train(model, train_dataloader, val_dataloader, criterion, optimizer, device)\n",
    "    # Log losses to TensorBoard\n",
    "        #writer.add_scalars(\"Loss\", {\"Train\": train_loss, \"Validation\": val_loss}, epoch)\n",
    "\n",
    "        if val_loss < best_val_loss:\n",
    "            best_val_loss = val_loss\n",
    "            best_model = deepcopy(model)\n",
    "            counter = 0\n",
    "        else:\n",
    "            counter += 1\n",
    "\n",
    "        if epoch % print_interval == 0:\n",
    "            print(f\"Epoch [{epoch}/{num_epochs}] - Train Loss: {train_loss:.4f}, Validation Loss: {val_loss:.4f}\")\n",
    "\n",
    "        if counter >= patience:\n",
    "            print(\"Early stopping triggered.\")\n",
    "            break\n",
    "    #writer.close()"
   ]
  },
  {
   "cell_type": "markdown",
   "metadata": {},
   "source": [
    "# Diffusion"
   ]
  },
  {
   "cell_type": "code",
   "execution_count": 26,
   "metadata": {},
   "outputs": [],
   "source": [
    "import torch\n",
    "from diffusers import UNet2DModel, EDMEulerScheduler\n",
    "from torch.optim import Adam\n",
    "from tqdm import tqdm\n",
    "# from datasets import load_dataset\n",
    "from torchvision.transforms import Compose, Resize, ToTensor, Normalize\n",
    "import numpy as np"
   ]
  },
  {
   "cell_type": "code",
   "execution_count": 27,
   "metadata": {},
   "outputs": [],
   "source": [
    "# Copyright (c) 2022, NVIDIA CORPORATION & AFFILIATES. All rights reserved.\n",
    "#\n",
    "# This work is licensed under a Creative Commons\n",
    "# Attribution-NonCommercial-ShareAlike 4.0 International License.\n",
    "# You should have received a copy of the license along with this\n",
    "# work. If not, see http://creativecommons.org/licenses/by-nc-sa/4.0/\n",
    "\n",
    "\"\"\"Model architectures and preconditioning schemes used in the paper\n",
    "\"Elucidating the Design Space of Diffusion-Based Generative Models\".\"\"\"\n",
    "\n",
    "import numpy as np\n",
    "import torch\n",
    "from torch_utils import persistence\n",
    "from torch.nn.functional import silu\n",
    "\n",
    "#----------------------------------------------------------------------------\n",
    "# Unified routine for initializing weights and biases.\n",
    "\n",
    "def weight_init(shape, mode, fan_in, fan_out):\n",
    "    if mode == 'xavier_uniform': return np.sqrt(6 / (fan_in + fan_out)) * (torch.rand(*shape) * 2 - 1)\n",
    "    if mode == 'xavier_normal':  return np.sqrt(2 / (fan_in + fan_out)) * torch.randn(*shape)\n",
    "    if mode == 'kaiming_uniform': return np.sqrt(3 / fan_in) * (torch.rand(*shape) * 2 - 1)\n",
    "    if mode == 'kaiming_normal':  return np.sqrt(1 / fan_in) * torch.randn(*shape)\n",
    "    raise ValueError(f'Invalid init mode \"{mode}\"')\n",
    "\n",
    "#----------------------------------------------------------------------------\n",
    "# Fully-connected layer.\n",
    "\n",
    "# @persistence.persistent_class\n",
    "class Linear(torch.nn.Module):\n",
    "    def __init__(self, in_features, out_features, bias=True, init_mode='kaiming_normal', init_weight=1, init_bias=0):\n",
    "        super().__init__()\n",
    "        self.in_features = in_features\n",
    "        self.out_features = out_features\n",
    "        init_kwargs = dict(mode=init_mode, fan_in=in_features, fan_out=out_features)\n",
    "        self.weight = torch.nn.Parameter(weight_init([out_features, in_features], **init_kwargs) * init_weight)\n",
    "        self.bias = torch.nn.Parameter(weight_init([out_features], **init_kwargs) * init_bias) if bias else None\n",
    "\n",
    "    def forward(self, x):\n",
    "        x = x @ self.weight.to(x.dtype).t()\n",
    "        if self.bias is not None:\n",
    "            x = x.add_(self.bias.to(x.dtype))\n",
    "        return x\n",
    "\n",
    "#----------------------------------------------------------------------------\n",
    "# Convolutional layer with optional up/downsampling.\n",
    "\n",
    "# @persistence.persistent_class\n",
    "class Conv2d(torch.nn.Module):\n",
    "    def __init__(self,\n",
    "        in_channels, out_channels, kernel, bias=True, up=False, down=False,\n",
    "        resample_filter=[1,1], fused_resample=False, init_mode='kaiming_normal', init_weight=1, init_bias=0,\n",
    "    ):\n",
    "        assert not (up and down)\n",
    "        super().__init__()\n",
    "        self.in_channels = in_channels\n",
    "        self.out_channels = out_channels\n",
    "        self.up = up\n",
    "        self.down = down\n",
    "        self.fused_resample = fused_resample\n",
    "        init_kwargs = dict(mode=init_mode, fan_in=in_channels*kernel*kernel, fan_out=out_channels*kernel*kernel)\n",
    "        self.weight = torch.nn.Parameter(weight_init([out_channels, in_channels, kernel, kernel], **init_kwargs) * init_weight) if kernel else None\n",
    "        self.bias = torch.nn.Parameter(weight_init([out_channels], **init_kwargs) * init_bias) if kernel and bias else None\n",
    "        f = torch.as_tensor(resample_filter, dtype=torch.float32)\n",
    "        f = f.ger(f).unsqueeze(0).unsqueeze(1) / f.sum().square()\n",
    "        self.register_buffer('resample_filter', f if up or down else None)\n",
    "\n",
    "    def forward(self, x):\n",
    "        w = self.weight.to(x.dtype) if self.weight is not None else None\n",
    "        b = self.bias.to(x.dtype) if self.bias is not None else None\n",
    "        f = self.resample_filter.to(x.dtype) if self.resample_filter is not None else None\n",
    "        w_pad = w.shape[-1] // 2 if w is not None else 0\n",
    "        f_pad = (f.shape[-1] - 1) // 2 if f is not None else 0\n",
    "\n",
    "        if self.fused_resample and self.up and w is not None:\n",
    "            x = torch.nn.functional.conv_transpose2d(x, f.mul(4).tile([self.in_channels, 1, 1, 1]), groups=self.in_channels, stride=2, padding=max(f_pad - w_pad, 0))\n",
    "            x = torch.nn.functional.conv2d(x, w, padding=max(w_pad - f_pad, 0))\n",
    "        elif self.fused_resample and self.down and w is not None:\n",
    "            x = torch.nn.functional.conv2d(x, w, padding=w_pad+f_pad)\n",
    "            x = torch.nn.functional.conv2d(x, f.tile([self.out_channels, 1, 1, 1]), groups=self.out_channels, stride=2)\n",
    "        else:\n",
    "            if self.up:\n",
    "                x = torch.nn.functional.conv_transpose2d(x, f.mul(4).tile([self.in_channels, 1, 1, 1]), groups=self.in_channels, stride=2, padding=f_pad)\n",
    "            if self.down:\n",
    "                x = torch.nn.functional.conv2d(x, f.tile([self.in_channels, 1, 1, 1]), groups=self.in_channels, stride=2, padding=f_pad)\n",
    "            if w is not None:\n",
    "                x = torch.nn.functional.conv2d(x, w, padding=w_pad)\n",
    "        if b is not None:\n",
    "            x = x.add_(b.reshape(1, -1, 1, 1))\n",
    "        return x\n",
    "\n",
    "#----------------------------------------------------------------------------\n",
    "# Group normalization.\n",
    "\n",
    "# @persistence.persistent_class\n",
    "class GroupNorm(torch.nn.Module):\n",
    "    def __init__(self, num_channels, num_groups=32, min_channels_per_group=4, eps=1e-5):\n",
    "        super().__init__()\n",
    "        self.num_groups = min(num_groups, num_channels // min_channels_per_group)\n",
    "        self.eps = eps\n",
    "        self.weight = torch.nn.Parameter(torch.ones(num_channels))\n",
    "        self.bias = torch.nn.Parameter(torch.zeros(num_channels))\n",
    "\n",
    "    def forward(self, x):\n",
    "        x = torch.nn.functional.group_norm(x, num_groups=self.num_groups, weight=self.weight.to(x.dtype), bias=self.bias.to(x.dtype), eps=self.eps)\n",
    "        return x\n",
    "\n",
    "#----------------------------------------------------------------------------\n",
    "# Attention weight computation, i.e., softmax(Q^T * K).\n",
    "# Performs all computation using FP32, but uses the original datatype for\n",
    "# inputs/outputs/gradients to conserve memory.\n",
    "\n",
    "class AttentionOp(torch.autograd.Function):\n",
    "    @staticmethod\n",
    "    def forward(ctx, q, k):\n",
    "        w = torch.einsum('ncq,nck->nqk', q.to(torch.float32), (k / np.sqrt(k.shape[1])).to(torch.float32)).softmax(dim=2).to(q.dtype)\n",
    "        ctx.save_for_backward(q, k, w)\n",
    "        return w\n",
    "\n",
    "    @staticmethod\n",
    "    def backward(ctx, dw):\n",
    "        q, k, w = ctx.saved_tensors\n",
    "        db = torch._softmax_backward_data(grad_output=dw.to(torch.float32), output=w.to(torch.float32), dim=2, input_dtype=torch.float32)\n",
    "        dq = torch.einsum('nck,nqk->ncq', k.to(torch.float32), db).to(q.dtype) / np.sqrt(k.shape[1])\n",
    "        dk = torch.einsum('ncq,nqk->nck', q.to(torch.float32), db).to(k.dtype) / np.sqrt(k.shape[1])\n",
    "        return dq, dk\n",
    "\n",
    "#----------------------------------------------------------------------------\n",
    "# Unified U-Net block with optional up/downsampling and self-attention.\n",
    "# Represents the union of all features employed by the DDPM++, NCSN++, and\n",
    "# ADM architectures.\n",
    "\n",
    "# @persistence.persistent_class\n",
    "class UNetBlock(torch.nn.Module):\n",
    "    def __init__(self,\n",
    "        in_channels, out_channels, emb_channels, up=False, down=False, attention=False,\n",
    "        num_heads=None, channels_per_head=64, dropout=0, skip_scale=1, eps=1e-5,\n",
    "        resample_filter=[1,1], resample_proj=False, adaptive_scale=True,\n",
    "        init=dict(), init_zero=dict(init_weight=0), init_attn=None,\n",
    "    ):\n",
    "        super().__init__()\n",
    "        self.in_channels = in_channels\n",
    "        self.out_channels = out_channels\n",
    "        self.emb_channels = emb_channels\n",
    "        self.num_heads = 0 if not attention else num_heads if num_heads is not None else out_channels // channels_per_head\n",
    "        self.dropout = dropout\n",
    "        self.skip_scale = skip_scale\n",
    "        self.adaptive_scale = adaptive_scale\n",
    "\n",
    "        self.norm0 = GroupNorm(num_channels=in_channels, eps=eps)\n",
    "        self.conv0 = Conv2d(in_channels=in_channels, out_channels=out_channels, kernel=3, up=up, down=down, resample_filter=resample_filter, **init)\n",
    "        self.affine = Linear(in_features=emb_channels, out_features=out_channels*(2 if adaptive_scale else 1), **init)\n",
    "        self.norm1 = GroupNorm(num_channels=out_channels, eps=eps)\n",
    "        self.conv1 = Conv2d(in_channels=out_channels, out_channels=out_channels, kernel=3, **init_zero)\n",
    "\n",
    "        self.skip = None\n",
    "        if out_channels != in_channels or up or down:\n",
    "            kernel = 1 if resample_proj or out_channels!= in_channels else 0\n",
    "            self.skip = Conv2d(in_channels=in_channels, out_channels=out_channels, kernel=kernel, up=up, down=down, resample_filter=resample_filter, **init)\n",
    "\n",
    "        if self.num_heads:\n",
    "            self.norm2 = GroupNorm(num_channels=out_channels, eps=eps)\n",
    "            self.qkv = Conv2d(in_channels=out_channels, out_channels=out_channels*3, kernel=1, **(init_attn if init_attn is not None else init))\n",
    "            self.proj = Conv2d(in_channels=out_channels, out_channels=out_channels, kernel=1, **init_zero)\n",
    "\n",
    "    def forward(self, x, emb):\n",
    "        orig = x\n",
    "        x = self.conv0(silu(self.norm0(x)))\n",
    "\n",
    "        params = self.affine(emb).unsqueeze(2).unsqueeze(3).to(x.dtype)\n",
    "        if self.adaptive_scale:\n",
    "            scale, shift = params.chunk(chunks=2, dim=1)\n",
    "            x = silu(torch.addcmul(shift, self.norm1(x), scale + 1))\n",
    "        else:\n",
    "            x = silu(self.norm1(x.add_(params)))\n",
    "\n",
    "        x = self.conv1(torch.nn.functional.dropout(x, p=self.dropout, training=self.training))\n",
    "        x = x.add_(self.skip(orig) if self.skip is not None else orig)\n",
    "        x = x * self.skip_scale\n",
    "\n",
    "        if self.num_heads:\n",
    "            q, k, v = self.qkv(self.norm2(x)).reshape(x.shape[0] * self.num_heads, x.shape[1] // self.num_heads, 3, -1).unbind(2)\n",
    "            w = AttentionOp.apply(q, k)\n",
    "            a = torch.einsum('nqk,nck->ncq', w, v)\n",
    "            x = self.proj(a.reshape(*x.shape)).add_(x)\n",
    "            x = x * self.skip_scale\n",
    "        return x\n",
    "\n",
    "#----------------------------------------------------------------------------\n",
    "# Timestep embedding used in the DDPM++ and ADM architectures.\n",
    "\n",
    "# @persistence.persistent_class\n",
    "class PositionalEmbedding(torch.nn.Module):\n",
    "    def __init__(self, num_channels, max_positions=10000, endpoint=False):\n",
    "        super().__init__()\n",
    "        self.num_channels = num_channels\n",
    "        self.max_positions = max_positions\n",
    "        self.endpoint = endpoint\n",
    "\n",
    "    def forward(self, x):\n",
    "        freqs = torch.arange(start=0, end=self.num_channels//2, dtype=torch.float32, device=x.device)\n",
    "        freqs = freqs / (self.num_channels // 2 - (1 if self.endpoint else 0))\n",
    "        freqs = (1 / self.max_positions) ** freqs\n",
    "        x = x.ger(freqs.to(x.dtype))\n",
    "        x = torch.cat([x.cos(), x.sin()], dim=1)\n",
    "        return x\n",
    "\n",
    "#----------------------------------------------------------------------------\n",
    "# Timestep embedding used in the NCSN++ architecture.\n",
    "\n",
    "# @persistence.persistent_class\n",
    "class FourierEmbedding(torch.nn.Module):\n",
    "    def __init__(self, num_channels, scale=16):\n",
    "        super().__init__()\n",
    "        self.register_buffer('freqs', torch.randn(num_channels // 2) * scale)\n",
    "\n",
    "    def forward(self, x):\n",
    "        x = x.ger((2 * np.pi * self.freqs).to(x.dtype))\n",
    "        x = torch.cat([x.cos(), x.sin()], dim=1)\n",
    "        return x\n",
    "\n",
    "#----------------------------------------------------------------------------\n",
    "# Reimplementation of the DDPM++ and NCSN++ architectures from the paper\n",
    "# \"Score-Based Generative Modeling through Stochastic Differential\n",
    "# Equations\". Equivalent to the original implementation by Song et al.,\n",
    "# available at https://github.com/yang-song/score_sde_pytorch\n",
    "\n",
    "# @persistence.persistent_class\n",
    "class SongUNet(torch.nn.Module):\n",
    "    def __init__(self,\n",
    "        img_resolution,                     # Image resolution at input/output.\n",
    "        in_channels,                        # Number of color channels at input.\n",
    "        out_channels,                       # Number of color channels at output.\n",
    "        label_dim           = 0,            # Number of class labels, 0 = unconditional.\n",
    "        augment_dim         = 0,            # Augmentation label dimensionality, 0 = no augmentation.\n",
    "\n",
    "        model_channels      = 128,          # Base multiplier for the number of channels.\n",
    "        channel_mult        = [1,2,2,2],    # Per-resolution multipliers for the number of channels.\n",
    "        channel_mult_emb    = 4,            # Multiplier for the dimensionality of the embedding vector.\n",
    "        num_blocks          = 4,            # Number of residual blocks per resolution.\n",
    "        attn_resolutions    = [16],         # List of resolutions with self-attention.\n",
    "        dropout             = 0.10,         # Dropout probability of intermediate activations.\n",
    "        label_dropout       = 0,            # Dropout probability of class labels for classifier-free guidance.\n",
    "\n",
    "        embedding_type      = 'positional', # Timestep embedding type: 'positional' for DDPM++, 'fourier' for NCSN++.\n",
    "        channel_mult_noise  = 1,            # Timestep embedding size: 1 for DDPM++, 2 for NCSN++.\n",
    "        encoder_type        = 'standard',   # Encoder architecture: 'standard' for DDPM++, 'residual' for NCSN++.\n",
    "        decoder_type        = 'standard',   # Decoder architecture: 'standard' for both DDPM++ and NCSN++.\n",
    "        resample_filter     = [1,1],        # Resampling filter: [1,1] for DDPM++, [1,3,3,1] for NCSN++.\n",
    "    ):\n",
    "        assert embedding_type in ['fourier', 'positional']\n",
    "        assert encoder_type in ['standard', 'skip', 'residual']\n",
    "        assert decoder_type in ['standard', 'skip']\n",
    "\n",
    "        super().__init__()\n",
    "        self.label_dropout = label_dropout\n",
    "        emb_channels = model_channels * channel_mult_emb\n",
    "        noise_channels = model_channels * channel_mult_noise\n",
    "        init = dict(init_mode='xavier_uniform')\n",
    "        init_zero = dict(init_mode='xavier_uniform', init_weight=1e-5)\n",
    "        init_attn = dict(init_mode='xavier_uniform', init_weight=np.sqrt(0.2))\n",
    "        block_kwargs = dict(\n",
    "            emb_channels=emb_channels, num_heads=1, dropout=dropout, skip_scale=np.sqrt(0.5), eps=1e-6,\n",
    "            resample_filter=resample_filter, resample_proj=True, adaptive_scale=False,\n",
    "            init=init, init_zero=init_zero, init_attn=init_attn,\n",
    "        )\n",
    "\n",
    "        # Mapping.\n",
    "        self.map_noise = PositionalEmbedding(num_channels=noise_channels, endpoint=True) if embedding_type == 'positional' else FourierEmbedding(num_channels=noise_channels)\n",
    "        self.map_label = Linear(in_features=label_dim, out_features=noise_channels, **init) if label_dim else None\n",
    "        self.map_augment = Linear(in_features=augment_dim, out_features=noise_channels, bias=False, **init) if augment_dim else None\n",
    "        self.map_layer0 = Linear(in_features=noise_channels, out_features=emb_channels, **init)\n",
    "        self.map_layer1 = Linear(in_features=emb_channels, out_features=emb_channels, **init)\n",
    "\n",
    "        # Encoder.\n",
    "        self.enc = torch.nn.ModuleDict()\n",
    "        cout = in_channels\n",
    "        caux = in_channels\n",
    "        for level, mult in enumerate(channel_mult):\n",
    "            res = img_resolution >> level\n",
    "            if level == 0:\n",
    "                cin = cout\n",
    "                cout = model_channels\n",
    "                self.enc[f'{res}x{res}_conv'] = Conv2d(in_channels=cin, out_channels=cout, kernel=3, **init)\n",
    "            else:\n",
    "                self.enc[f'{res}x{res}_down'] = UNetBlock(in_channels=cout, out_channels=cout, down=True, **block_kwargs)\n",
    "                if encoder_type == 'skip':\n",
    "                    self.enc[f'{res}x{res}_aux_down'] = Conv2d(in_channels=caux, out_channels=caux, kernel=0, down=True, resample_filter=resample_filter)\n",
    "                    self.enc[f'{res}x{res}_aux_skip'] = Conv2d(in_channels=caux, out_channels=cout, kernel=1, **init)\n",
    "                if encoder_type == 'residual':\n",
    "                    self.enc[f'{res}x{res}_aux_residual'] = Conv2d(in_channels=caux, out_channels=cout, kernel=3, down=True, resample_filter=resample_filter, fused_resample=True, **init)\n",
    "                    caux = cout\n",
    "            for idx in range(num_blocks):\n",
    "                cin = cout\n",
    "                cout = model_channels * mult\n",
    "                attn = (res in attn_resolutions)\n",
    "                self.enc[f'{res}x{res}_block{idx}'] = UNetBlock(in_channels=cin, out_channels=cout, attention=attn, **block_kwargs)\n",
    "        skips = [block.out_channels for name, block in self.enc.items() if 'aux' not in name]\n",
    "\n",
    "        # Decoder.\n",
    "        self.dec = torch.nn.ModuleDict()\n",
    "        for level, mult in reversed(list(enumerate(channel_mult))):\n",
    "            res = img_resolution >> level\n",
    "            if level == len(channel_mult) - 1:\n",
    "                self.dec[f'{res}x{res}_in0'] = UNetBlock(in_channels=cout, out_channels=cout, attention=True, **block_kwargs)\n",
    "                self.dec[f'{res}x{res}_in1'] = UNetBlock(in_channels=cout, out_channels=cout, **block_kwargs)\n",
    "            else:\n",
    "                self.dec[f'{res}x{res}_up'] = UNetBlock(in_channels=cout, out_channels=cout, up=True, **block_kwargs)\n",
    "            for idx in range(num_blocks + 1):\n",
    "                cin = cout + skips.pop()\n",
    "                cout = model_channels * mult\n",
    "                attn = (idx == num_blocks and res in attn_resolutions)\n",
    "                self.dec[f'{res}x{res}_block{idx}'] = UNetBlock(in_channels=cin, out_channels=cout, attention=attn, **block_kwargs)\n",
    "            if decoder_type == 'skip' or level == 0:\n",
    "                if decoder_type == 'skip' and level < len(channel_mult) - 1:\n",
    "                    self.dec[f'{res}x{res}_aux_up'] = Conv2d(in_channels=out_channels, out_channels=out_channels, kernel=0, up=True, resample_filter=resample_filter)\n",
    "                self.dec[f'{res}x{res}_aux_norm'] = GroupNorm(num_channels=cout, eps=1e-6)\n",
    "                self.dec[f'{res}x{res}_aux_conv'] = Conv2d(in_channels=cout, out_channels=out_channels, kernel=3, **init_zero)\n",
    "\n",
    "    def forward(self, x, noise_labels, class_labels, augment_labels=None):\n",
    "        # Mapping.\n",
    "        emb = self.map_noise(noise_labels)\n",
    "        emb = emb.reshape(emb.shape[0], 2, -1).flip(1).reshape(*emb.shape) # swap sin/cos\n",
    "        if self.map_label is not None:\n",
    "            tmp = class_labels\n",
    "            if self.training and self.label_dropout:\n",
    "                tmp = tmp * (torch.rand([x.shape[0], 1], device=x.device) >= self.label_dropout).to(tmp.dtype)\n",
    "            emb = emb + self.map_label(tmp * np.sqrt(self.map_label.in_features))\n",
    "        if self.map_augment is not None and augment_labels is not None:\n",
    "            emb = emb + self.map_augment(augment_labels)\n",
    "        emb = silu(self.map_layer0(emb))\n",
    "        emb = silu(self.map_layer1(emb))\n",
    "\n",
    "        # Encoder.\n",
    "        skips = []\n",
    "        aux = x\n",
    "        for name, block in self.enc.items():\n",
    "            if 'aux_down' in name:\n",
    "                aux = block(aux)\n",
    "            elif 'aux_skip' in name:\n",
    "                x = skips[-1] = x + block(aux)\n",
    "            elif 'aux_residual' in name:\n",
    "                x = skips[-1] = aux = (x + block(aux)) / np.sqrt(2)\n",
    "            else:\n",
    "                x = block(x, emb) if isinstance(block, UNetBlock) else block(x)\n",
    "                skips.append(x)\n",
    "\n",
    "        # Decoder.\n",
    "        aux = None\n",
    "        tmp = None\n",
    "        for name, block in self.dec.items():\n",
    "            if 'aux_up' in name:\n",
    "                aux = block(aux)\n",
    "            elif 'aux_norm' in name:\n",
    "                tmp = block(x)\n",
    "            elif 'aux_conv' in name:\n",
    "                tmp = block(silu(tmp))\n",
    "                aux = tmp if aux is None else tmp + aux\n",
    "            else:\n",
    "                if x.shape[1] != block.in_channels:\n",
    "                    x = torch.cat([x, skips.pop()], dim=1)\n",
    "                x = block(x, emb)\n",
    "        return aux\n",
    "\n",
    "#----------------------------------------------------------------------------\n",
    "# Reimplementation of the ADM architecture from the paper\n",
    "# \"Diffusion Models Beat GANS on Image Synthesis\". Equivalent to the\n",
    "# original implementation by Dhariwal and Nichol, available at\n",
    "# https://github.com/openai/guided-diffusion\n",
    "\n",
    "# @persistence.persistent_class\n",
    "class DhariwalUNet(torch.nn.Module):\n",
    "    def __init__(self,\n",
    "        img_resolution,                     # Image resolution at input/output.\n",
    "        in_channels,                        # Number of color channels at input.\n",
    "        out_channels,                       # Number of color channels at output.\n",
    "        label_dim           = 0,            # Number of class labels, 0 = unconditional.\n",
    "        augment_dim         = 0,            # Augmentation label dimensionality, 0 = no augmentation.\n",
    "\n",
    "        model_channels      = 192,          # Base multiplier for the number of channels.\n",
    "        channel_mult        = [1,2,3,4],    # Per-resolution multipliers for the number of channels.\n",
    "        channel_mult_emb    = 4,            # Multiplier for the dimensionality of the embedding vector.\n",
    "        num_blocks          = 3,            # Number of residual blocks per resolution.\n",
    "        attn_resolutions    = [32,16,8],    # List of resolutions with self-attention.\n",
    "        dropout             = 0.10,         # List of resolutions with self-attention.\n",
    "        label_dropout       = 0,            # Dropout probability of class labels for classifier-free guidance.\n",
    "    ):\n",
    "        super().__init__()\n",
    "        self.label_dropout = label_dropout\n",
    "        emb_channels = model_channels * channel_mult_emb\n",
    "        init = dict(init_mode='kaiming_uniform', init_weight=np.sqrt(1/3), init_bias=np.sqrt(1/3))\n",
    "        init_zero = dict(init_mode='kaiming_uniform', init_weight=0, init_bias=0)\n",
    "        block_kwargs = dict(emb_channels=emb_channels, channels_per_head=64, dropout=dropout, init=init, init_zero=init_zero)\n",
    "\n",
    "        # Mapping.\n",
    "        self.map_noise = PositionalEmbedding(num_channels=model_channels)\n",
    "        self.map_augment = Linear(in_features=augment_dim, out_features=model_channels, bias=False, **init_zero) if augment_dim else None\n",
    "        self.map_layer0 = Linear(in_features=model_channels, out_features=emb_channels, **init)\n",
    "        self.map_layer1 = Linear(in_features=emb_channels, out_features=emb_channels, **init)\n",
    "        self.map_label = Linear(in_features=label_dim, out_features=emb_channels, bias=False, init_mode='kaiming_normal', init_weight=np.sqrt(label_dim)) if label_dim else None\n",
    "\n",
    "        # Encoder.\n",
    "        self.enc = torch.nn.ModuleDict()\n",
    "        cout = in_channels\n",
    "        for level, mult in enumerate(channel_mult):\n",
    "            res = img_resolution >> level\n",
    "            if level == 0:\n",
    "                cin = cout\n",
    "                cout = model_channels * mult\n",
    "                self.enc[f'{res}x{res}_conv'] = Conv2d(in_channels=cin, out_channels=cout, kernel=3, **init)\n",
    "            else:\n",
    "                self.enc[f'{res}x{res}_down'] = UNetBlock(in_channels=cout, out_channels=cout, down=True, **block_kwargs)\n",
    "            for idx in range(num_blocks):\n",
    "                cin = cout\n",
    "                cout = model_channels * mult\n",
    "                self.enc[f'{res}x{res}_block{idx}'] = UNetBlock(in_channels=cin, out_channels=cout, attention=(res in attn_resolutions), **block_kwargs)\n",
    "        skips = [block.out_channels for block in self.enc.values()]\n",
    "\n",
    "        # Decoder.\n",
    "        self.dec = torch.nn.ModuleDict()\n",
    "        for level, mult in reversed(list(enumerate(channel_mult))):\n",
    "            res = img_resolution >> level\n",
    "            if level == len(channel_mult) - 1:\n",
    "                self.dec[f'{res}x{res}_in0'] = UNetBlock(in_channels=cout, out_channels=cout, attention=True, **block_kwargs)\n",
    "                self.dec[f'{res}x{res}_in1'] = UNetBlock(in_channels=cout, out_channels=cout, **block_kwargs)\n",
    "            else:\n",
    "                self.dec[f'{res}x{res}_up'] = UNetBlock(in_channels=cout, out_channels=cout, up=True, **block_kwargs)\n",
    "            for idx in range(num_blocks + 1):\n",
    "                cin = cout + skips.pop()\n",
    "                cout = model_channels * mult\n",
    "                self.dec[f'{res}x{res}_block{idx}'] = UNetBlock(in_channels=cin, out_channels=cout, attention=(res in attn_resolutions), **block_kwargs)\n",
    "        self.out_norm = GroupNorm(num_channels=cout)\n",
    "        self.out_conv = Conv2d(in_channels=cout, out_channels=out_channels, kernel=3, **init_zero)\n",
    "\n",
    "    def forward(self, x, noise_labels, class_labels, augment_labels=None):\n",
    "        # Mapping.\n",
    "        emb = self.map_noise(noise_labels)\n",
    "        if self.map_augment is not None and augment_labels is not None:\n",
    "            emb = emb + self.map_augment(augment_labels)\n",
    "        emb = silu(self.map_layer0(emb))\n",
    "        emb = self.map_layer1(emb)\n",
    "        if self.map_label is not None:\n",
    "            tmp = class_labels\n",
    "            if self.training and self.label_dropout:\n",
    "                tmp = tmp * (torch.rand([x.shape[0], 1], device=x.device) >= self.label_dropout).to(tmp.dtype)\n",
    "            emb = emb + self.map_label(tmp)\n",
    "        emb = silu(emb)\n",
    "\n",
    "        # Encoder.\n",
    "        skips = []\n",
    "        for block in self.enc.values():\n",
    "            x = block(x, emb) if isinstance(block, UNetBlock) else block(x)\n",
    "            skips.append(x)\n",
    "\n",
    "        # Decoder.\n",
    "        for block in self.dec.values():\n",
    "            if x.shape[1] != block.in_channels:\n",
    "                x = torch.cat([x, skips.pop()], dim=1)\n",
    "            x = block(x, emb)\n",
    "        x = self.out_conv(silu(self.out_norm(x)))\n",
    "        return x\n",
    "\n",
    "#----------------------------------------------------------------------------\n",
    "# Preconditioning corresponding to the variance preserving (VP) formulation\n",
    "# from the paper \"Score-Based Generative Modeling through Stochastic\n",
    "# Differential Equations\".\n",
    "\n",
    "# @persistence.persistent_class\n",
    "class VPPrecond(torch.nn.Module):\n",
    "    def __init__(self,\n",
    "        img_resolution,                 # Image resolution.\n",
    "        img_channels,                   # Number of color channels.\n",
    "        label_dim       = 0,            # Number of class labels, 0 = unconditional.\n",
    "        use_fp16        = False,        # Execute the underlying model at FP16 precision?\n",
    "        beta_d          = 19.9,         # Extent of the noise level schedule.\n",
    "        beta_min        = 0.1,          # Initial slope of the noise level schedule.\n",
    "        M               = 1000,         # Original number of timesteps in the DDPM formulation.\n",
    "        epsilon_t       = 1e-5,         # Minimum t-value used during training.\n",
    "        model_type      = 'SongUNet',   # Class name of the underlying model.\n",
    "        **model_kwargs,                 # Keyword arguments for the underlying model.\n",
    "    ):\n",
    "        super().__init__()\n",
    "        self.img_resolution = img_resolution\n",
    "        self.img_channels = img_channels\n",
    "        self.label_dim = label_dim\n",
    "        self.use_fp16 = use_fp16\n",
    "        self.beta_d = beta_d\n",
    "        self.beta_min = beta_min\n",
    "        self.M = M\n",
    "        self.epsilon_t = epsilon_t\n",
    "        self.sigma_min = float(self.sigma(epsilon_t))\n",
    "        self.sigma_max = float(self.sigma(1))\n",
    "        self.model = globals()[model_type](img_resolution=img_resolution, in_channels=img_channels, out_channels=img_channels, label_dim=label_dim, **model_kwargs)\n",
    "\n",
    "    def forward(self, x, sigma, class_labels=None, force_fp32=False, **model_kwargs):\n",
    "        x = x.to(torch.float32)\n",
    "        sigma = sigma.to(torch.float32).reshape(-1, 1, 1, 1)\n",
    "        class_labels = None if self.label_dim == 0 else torch.zeros([1, self.label_dim], device=x.device) if class_labels is None else class_labels.to(torch.float32).reshape(-1, self.label_dim)\n",
    "        dtype = torch.float16 if (self.use_fp16 and not force_fp32 and x.device.type == 'cuda') else torch.float32\n",
    "\n",
    "        c_skip = 1\n",
    "        c_out = -sigma\n",
    "        c_in = 1 / (sigma ** 2 + 1).sqrt()\n",
    "        c_noise = (self.M - 1) * self.sigma_inv(sigma)\n",
    "\n",
    "        F_x = self.model((c_in * x).to(dtype), c_noise.flatten(), class_labels=class_labels, **model_kwargs)\n",
    "        assert F_x.dtype == dtype\n",
    "        D_x = c_skip * x + c_out * F_x.to(torch.float32)\n",
    "        return D_x\n",
    "\n",
    "    def sigma(self, t):\n",
    "        t = torch.as_tensor(t)\n",
    "        return ((0.5 * self.beta_d * (t ** 2) + self.beta_min * t).exp() - 1).sqrt()\n",
    "\n",
    "    def sigma_inv(self, sigma):\n",
    "        sigma = torch.as_tensor(sigma)\n",
    "        return ((self.beta_min ** 2 + 2 * self.beta_d * (1 + sigma ** 2).log()).sqrt() - self.beta_min) / self.beta_d\n",
    "\n",
    "    def round_sigma(self, sigma):\n",
    "        return torch.as_tensor(sigma)\n",
    "\n",
    "#----------------------------------------------------------------------------\n",
    "# Preconditioning corresponding to the variance exploding (VE) formulation\n",
    "# from the paper \"Score-Based Generative Modeling through Stochastic\n",
    "# Differential Equations\".\n",
    "\n",
    "# @persistence.persistent_class\n",
    "class VEPrecond(torch.nn.Module):\n",
    "    def __init__(self,\n",
    "        img_resolution,                 # Image resolution.\n",
    "        img_channels,                   # Number of color channels.\n",
    "        label_dim       = 0,            # Number of class labels, 0 = unconditional.\n",
    "        use_fp16        = False,        # Execute the underlying model at FP16 precision?\n",
    "        sigma_min       = 0.02,         # Minimum supported noise level.\n",
    "        sigma_max       = 100,          # Maximum supported noise level.\n",
    "        model_type      = 'SongUNet',   # Class name of the underlying model.\n",
    "        **model_kwargs,                 # Keyword arguments for the underlying model.\n",
    "    ):\n",
    "        super().__init__()\n",
    "        self.img_resolution = img_resolution\n",
    "        self.img_channels = img_channels\n",
    "        self.label_dim = label_dim\n",
    "        self.use_fp16 = use_fp16\n",
    "        self.sigma_min = sigma_min\n",
    "        self.sigma_max = sigma_max\n",
    "        self.model = globals()[model_type](img_resolution=img_resolution, in_channels=img_channels, out_channels=img_channels, label_dim=label_dim, **model_kwargs)\n",
    "\n",
    "    def forward(self, x, sigma, class_labels=None, force_fp32=False, **model_kwargs):\n",
    "        x = x.to(torch.float32)\n",
    "        sigma = sigma.to(torch.float32).reshape(-1, 1, 1, 1)\n",
    "        class_labels = None if self.label_dim == 0 else torch.zeros([1, self.label_dim], device=x.device) if class_labels is None else class_labels.to(torch.float32).reshape(-1, self.label_dim)\n",
    "        dtype = torch.float16 if (self.use_fp16 and not force_fp32 and x.device.type == 'cuda') else torch.float32\n",
    "\n",
    "        c_skip = 1\n",
    "        c_out = sigma\n",
    "        c_in = 1\n",
    "        c_noise = (0.5 * sigma).log()\n",
    "\n",
    "        F_x = self.model((c_in * x).to(dtype), c_noise.flatten(), class_labels=class_labels, **model_kwargs)\n",
    "        assert F_x.dtype == dtype\n",
    "        D_x = c_skip * x + c_out * F_x.to(torch.float32)\n",
    "        return D_x\n",
    "\n",
    "    def round_sigma(self, sigma):\n",
    "        return torch.as_tensor(sigma)\n",
    "\n",
    "#----------------------------------------------------------------------------\n",
    "# Preconditioning corresponding to improved DDPM (iDDPM) formulation from\n",
    "# the paper \"Improved Denoising Diffusion Probabilistic Models\".\n",
    "\n",
    "# @persistence.persistent_class\n",
    "class iDDPMPrecond(torch.nn.Module):\n",
    "    def __init__(self,\n",
    "        img_resolution,                     # Image resolution.\n",
    "        img_channels,                       # Number of color channels.\n",
    "        label_dim       = 0,                # Number of class labels, 0 = unconditional.\n",
    "        use_fp16        = False,            # Execute the underlying model at FP16 precision?\n",
    "        C_1             = 0.001,            # Timestep adjustment at low noise levels.\n",
    "        C_2             = 0.008,            # Timestep adjustment at high noise levels.\n",
    "        M               = 1000,             # Original number of timesteps in the DDPM formulation.\n",
    "        model_type      = 'DhariwalUNet',   # Class name of the underlying model.\n",
    "        **model_kwargs,                     # Keyword arguments for the underlying model.\n",
    "    ):\n",
    "        super().__init__()\n",
    "        self.img_resolution = img_resolution\n",
    "        self.img_channels = img_channels\n",
    "        self.label_dim = label_dim\n",
    "        self.use_fp16 = use_fp16\n",
    "        self.C_1 = C_1\n",
    "        self.C_2 = C_2\n",
    "        self.M = M\n",
    "        self.model = globals()[model_type](img_resolution=img_resolution, in_channels=img_channels, out_channels=img_channels*2, label_dim=label_dim, **model_kwargs)\n",
    "\n",
    "        u = torch.zeros(M + 1)\n",
    "        for j in range(M, 0, -1): # M, ..., 1\n",
    "            u[j - 1] = ((u[j] ** 2 + 1) / (self.alpha_bar(j - 1) / self.alpha_bar(j)).clip(min=C_1) - 1).sqrt()\n",
    "        self.register_buffer('u', u)\n",
    "        self.sigma_min = float(u[M - 1])\n",
    "        self.sigma_max = float(u[0])\n",
    "\n",
    "    def forward(self, x, sigma, class_labels=None, force_fp32=False, **model_kwargs):\n",
    "        x = x.to(torch.float32)\n",
    "        sigma = sigma.to(torch.float32).reshape(-1, 1, 1, 1)\n",
    "        class_labels = None if self.label_dim == 0 else torch.zeros([1, self.label_dim], device=x.device) if class_labels is None else class_labels.to(torch.float32).reshape(-1, self.label_dim)\n",
    "        dtype = torch.float16 if (self.use_fp16 and not force_fp32 and x.device.type == 'cuda') else torch.float32\n",
    "\n",
    "        c_skip = 1\n",
    "        c_out = -sigma\n",
    "        c_in = 1 / (sigma ** 2 + 1).sqrt()\n",
    "        c_noise = self.M - 1 - self.round_sigma(sigma, return_index=True).to(torch.float32)\n",
    "\n",
    "        F_x = self.model((c_in * x).to(dtype), c_noise.flatten(), class_labels=class_labels, **model_kwargs)\n",
    "        assert F_x.dtype == dtype\n",
    "        D_x = c_skip * x + c_out * F_x[:, :self.img_channels].to(torch.float32)\n",
    "        return D_x\n",
    "\n",
    "    def alpha_bar(self, j):\n",
    "        j = torch.as_tensor(j)\n",
    "        return (0.5 * np.pi * j / self.M / (self.C_2 + 1)).sin() ** 2\n",
    "\n",
    "    def round_sigma(self, sigma, return_index=False):\n",
    "        sigma = torch.as_tensor(sigma)\n",
    "        index = torch.cdist(sigma.to(self.u.device).to(torch.float32).reshape(1, -1, 1), self.u.reshape(1, -1, 1)).argmin(2)\n",
    "        result = index if return_index else self.u[index.flatten()].to(sigma.dtype)\n",
    "        return result.reshape(sigma.shape).to(sigma.device)\n",
    "\n",
    "#----------------------------------------------------------------------------\n",
    "# Improved preconditioning proposed in the paper \"Elucidating the Design\n",
    "# Space of Diffusion-Based Generative Models\" (EDM).\n",
    "\n",
    "# @persistence.persistent_class\n",
    "class EDMPrecond(torch.nn.Module):\n",
    "    def __init__(self,\n",
    "        img_resolution,                     # Image resolution.\n",
    "        img_channels,                       # Number of color channels.\n",
    "        label_dim       = 0,                # Number of class labels, 0 = unconditional.\n",
    "        use_fp16        = False,            # Execute the underlying model at FP16 precision?\n",
    "        sigma_min       = 0,                # Minimum supported noise level.\n",
    "        sigma_max       = float('inf'),     # Maximum supported noise level.\n",
    "        sigma_data      = 0.5,              # Expected standard deviation of the training data.\n",
    "        model_type      = 'DhariwalUNet',   # Class name of the underlying model.\n",
    "        **model_kwargs,                     # Keyword arguments for the underlying model.\n",
    "    ):\n",
    "        super().__init__()\n",
    "        self.img_resolution = img_resolution\n",
    "        self.img_channels = img_channels\n",
    "        self.label_dim = label_dim\n",
    "        self.use_fp16 = use_fp16\n",
    "        self.sigma_min = sigma_min\n",
    "        self.sigma_max = sigma_max\n",
    "        self.sigma_data = sigma_data\n",
    "        self.model = globals()[model_type](img_resolution=img_resolution, in_channels=img_channels, out_channels=img_channels, label_dim=label_dim, **model_kwargs)\n",
    "\n",
    "    def forward(self, x, sigma, class_labels=None, force_fp32=False, **model_kwargs):\n",
    "        x = x.to(torch.float32)\n",
    "        sigma = sigma.to(torch.float32).reshape(-1, 1, 1, 1)\n",
    "        class_labels = None if self.label_dim == 0 else torch.zeros([1, self.label_dim], device=x.device) if class_labels is None else class_labels.to(torch.float32).reshape(-1, self.label_dim)\n",
    "        dtype = torch.float16 if (self.use_fp16 and not force_fp32 and x.device.type == 'cuda') else torch.float32\n",
    "\n",
    "        c_skip = self.sigma_data ** 2 / (sigma ** 2 + self.sigma_data ** 2)\n",
    "        c_out = sigma * self.sigma_data / (sigma ** 2 + self.sigma_data ** 2).sqrt()\n",
    "        c_in = 1 / (self.sigma_data ** 2 + sigma ** 2).sqrt()\n",
    "        c_noise = sigma.log() / 4\n",
    "\n",
    "        F_x = self.model((c_in * x).to(dtype), c_noise.flatten(), class_labels=class_labels, **model_kwargs)\n",
    "        assert F_x.dtype == dtype\n",
    "        D_x = c_skip * x + c_out * F_x.to(torch.float32)\n",
    "        return D_x\n",
    "\n",
    "    def round_sigma(self, sigma):\n",
    "        return torch.as_tensor(sigma)\n",
    "\n",
    "#----------------------------------------------------------------------------"
   ]
  },
  {
   "cell_type": "code",
   "execution_count": 44,
   "metadata": {},
   "outputs": [],
   "source": [
    "import torch\n",
    "import torch.nn as nn\n",
    "from diffusers import UNet2DModel\n",
    "\n",
    "class ClassConditionedUnet(nn.Module):\n",
    "    def __init__(self, num_classes=10):\n",
    "        super().__init__()\n",
    "        \n",
    "        # The embedding layer will map the class label to a scalar value per pixel (like x)\n",
    "        self.class_emb = nn.Embedding(num_classes, 28 * 28)  # Output size matches spatial dimensions\n",
    "\n",
    "        # Self.model is an unconditional UNet with extra input channels to accept the conditioning information\n",
    "        self.model = UNet2DModel(\n",
    "            sample_size=28,           # the target image resolution\n",
    "            in_channels=2,            # Additional input channel for class conditioning\n",
    "            out_channels=1,           # the number of output channels\n",
    "            layers_per_block=2,       # how many ResNet layers to use per UNet block\n",
    "            block_out_channels=(32, 64, 64), \n",
    "            down_block_types=( \n",
    "                \"DownBlock2D\",        # a regular ResNet downsampling block\n",
    "                \"AttnDownBlock2D\",    # a ResNet downsampling block with spatial self-attention\n",
    "                \"AttnDownBlock2D\",\n",
    "            ), \n",
    "            up_block_types=(\n",
    "                \"AttnUpBlock2D\", \n",
    "                \"AttnUpBlock2D\",      # a ResNet upsampling block with spatial self-attention\n",
    "                \"UpBlock2D\",          # a regular ResNet upsampling block\n",
    "            ),\n",
    "        )\n",
    "\n",
    "    # Our forward method now takes the class labels as an additional argument\n",
    "    def forward(self, x, t, class_labels):\n",
    "        # Shape of x:\n",
    "        bs, ch, w, h = x.shape\n",
    "        \n",
    "        # class conditioning is mapped to (bs, 1, 28, 28)\n",
    "        class_cond = self.class_emb(class_labels)  # (bs, 28*28)\n",
    "        class_cond = class_cond.view(bs, 1, 28, 28)  # Reshape to match input x\n",
    "        \n",
    "        # Net input is now x and class cond concatenated together along dimension 1\n",
    "        net_input = torch.cat((x, class_cond), 1)  # (bs, 2, 28, 28)\n",
    "\n",
    "        # Feed this to the UNet alongside the timestep and return the prediction\n",
    "        return self.model(net_input, t).sample  # (bs, 1, 28, 28)"
   ]
  },
  {
   "cell_type": "code",
   "execution_count": 45,
   "metadata": {},
   "outputs": [],
   "source": [
    "noise_scheduler = DDPMScheduler(num_train_timesteps=1000, beta_schedule='squaredcos_cap_v2')"
   ]
  },
  {
   "cell_type": "code",
   "execution_count": null,
   "metadata": {},
   "outputs": [],
   "source": [
    "# How many runs through the data should we do?\n",
    "n_epochs = 10\n",
    "\n",
    "# Our network \n",
    "net = ClassConditionedUnet().to(device)\n",
    "\n",
    "# Our loss function\n",
    "loss_fn = nn.MSELoss()\n",
    "\n",
    "# The optimizer\n",
    "opt = torch.optim.Adam(net.parameters(), lr=1e-3) \n",
    "\n",
    "# Keeping a record of the losses for later viewing\n",
    "losses = []\n"
   ]
  },
  {
   "cell_type": "code",
   "execution_count": null,
   "metadata": {},
   "outputs": [],
   "source": []
  },
  {
   "cell_type": "code",
   "execution_count": 38,
   "metadata": {},
   "outputs": [],
   "source": [
    "# Define the model\n",
    "class ConditionalSongUNet(nn.Module):\n",
    "    def __init__(self, img_resolution=32, in_channels=1, out_channels=1, label_dim=10, model_channels=128):\n",
    "        super().__init__()\n",
    "        self.model = SongUNet(\n",
    "            img_resolution=img_resolution,\n",
    "            in_channels=in_channels + 1,  # Extra channel for class conditioning\n",
    "            out_channels=out_channels,\n",
    "            label_dim=label_dim,\n",
    "            model_channels=model_channels\n",
    "        )\n",
    "        self.class_embedding = nn.Embedding(label_dim, img_resolution * img_resolution)\n",
    "    \n",
    "    def forward(self, x, timesteps, labels):\n",
    "        class_emb = self.class_embedding(labels).view(x.shape[0], 1, x.shape[2], x.shape[3]).to(device)\n",
    "        x_cond = torch.cat((x, class_emb), dim=1)  # Concatenate along channel dimension\n",
    "        return self.model(x_cond, timesteps, labels)"
   ]
  },
  {
   "cell_type": "code",
   "execution_count": 39,
   "metadata": {},
   "outputs": [
    {
     "name": "stdout",
     "output_type": "stream",
     "text": [
      "Using device: cuda\n"
     ]
    }
   ],
   "source": [
    "import torch\n",
    "import torchvision\n",
    "from torch import nn\n",
    "from torch.nn import functional as F\n",
    "from torch.utils.data import DataLoader\n",
    "from diffusers import DDPMScheduler, UNet2DModel\n",
    "from matplotlib import pyplot as plt\n",
    "from tqdm.auto import tqdm\n",
    "\n",
    "device = 'mps' if torch.backends.mps.is_available() else 'cuda' if torch.cuda.is_available() else 'cpu'\n",
    "print(f'Using device: {device}')"
   ]
  },
  {
   "cell_type": "code",
   "execution_count": 40,
   "metadata": {},
   "outputs": [],
   "source": [
    "# Create a scheduler\n",
    "noise_scheduler = DDPMScheduler(num_train_timesteps=1000, beta_schedule='squaredcos_cap_v2')"
   ]
  },
  {
   "cell_type": "code",
   "execution_count": 41,
   "metadata": {},
   "outputs": [],
   "source": [
    "# How many runs through the data should we do?\n",
    "n_epochs = 10\n",
    "\n",
    "# Initialize model and optimizer\n",
    "net = ConditionalSongUNet().to(device)\n",
    "opt = torch.optim.Adam(net.parameters(), lr=1e-3)\n",
    "loss_fn = nn.MSELoss()\n",
    "\n",
    "# Keeping a record of the losses for later viewing\n",
    "losses = []"
   ]
  },
  {
   "cell_type": "markdown",
   "metadata": {},
   "source": [
    "# Rough"
   ]
  },
  {
   "cell_type": "code",
   "execution_count": 46,
   "metadata": {},
   "outputs": [
    {
     "name": "stdout",
     "output_type": "stream",
     "text": [
      "Downloading http://yann.lecun.com/exdb/mnist/train-images-idx3-ubyte.gz\n",
      "Failed to download (trying next):\n",
      "HTTP Error 404: Not Found\n",
      "\n",
      "Downloading https://ossci-datasets.s3.amazonaws.com/mnist/train-images-idx3-ubyte.gz\n",
      "Downloading https://ossci-datasets.s3.amazonaws.com/mnist/train-images-idx3-ubyte.gz to mnist/MNIST/raw/train-images-idx3-ubyte.gz\n"
     ]
    },
    {
     "name": "stderr",
     "output_type": "stream",
     "text": [
      "100%|██████████| 9912422/9912422 [00:06<00:00, 1531936.31it/s]\n"
     ]
    },
    {
     "name": "stdout",
     "output_type": "stream",
     "text": [
      "Extracting mnist/MNIST/raw/train-images-idx3-ubyte.gz to mnist/MNIST/raw\n",
      "\n",
      "Downloading http://yann.lecun.com/exdb/mnist/train-labels-idx1-ubyte.gz\n",
      "Failed to download (trying next):\n",
      "HTTP Error 404: Not Found\n",
      "\n",
      "Downloading https://ossci-datasets.s3.amazonaws.com/mnist/train-labels-idx1-ubyte.gz\n",
      "Downloading https://ossci-datasets.s3.amazonaws.com/mnist/train-labels-idx1-ubyte.gz to mnist/MNIST/raw/train-labels-idx1-ubyte.gz\n"
     ]
    },
    {
     "name": "stderr",
     "output_type": "stream",
     "text": [
      "100%|██████████| 28881/28881 [00:00<00:00, 965740.23it/s]\n"
     ]
    },
    {
     "name": "stdout",
     "output_type": "stream",
     "text": [
      "Extracting mnist/MNIST/raw/train-labels-idx1-ubyte.gz to mnist/MNIST/raw\n",
      "\n",
      "Downloading http://yann.lecun.com/exdb/mnist/t10k-images-idx3-ubyte.gz\n",
      "Failed to download (trying next):\n",
      "HTTP Error 404: Not Found\n",
      "\n",
      "Downloading https://ossci-datasets.s3.amazonaws.com/mnist/t10k-images-idx3-ubyte.gz\n",
      "Downloading https://ossci-datasets.s3.amazonaws.com/mnist/t10k-images-idx3-ubyte.gz to mnist/MNIST/raw/t10k-images-idx3-ubyte.gz\n"
     ]
    },
    {
     "name": "stderr",
     "output_type": "stream",
     "text": [
      "100%|██████████| 1648877/1648877 [00:00<00:00, 6294830.80it/s]\n"
     ]
    },
    {
     "name": "stdout",
     "output_type": "stream",
     "text": [
      "Extracting mnist/MNIST/raw/t10k-images-idx3-ubyte.gz to mnist/MNIST/raw\n",
      "\n",
      "Downloading http://yann.lecun.com/exdb/mnist/t10k-labels-idx1-ubyte.gz\n",
      "Failed to download (trying next):\n",
      "HTTP Error 404: Not Found\n",
      "\n",
      "Downloading https://ossci-datasets.s3.amazonaws.com/mnist/t10k-labels-idx1-ubyte.gz\n",
      "Downloading https://ossci-datasets.s3.amazonaws.com/mnist/t10k-labels-idx1-ubyte.gz to mnist/MNIST/raw/t10k-labels-idx1-ubyte.gz\n"
     ]
    },
    {
     "name": "stderr",
     "output_type": "stream",
     "text": [
      "100%|██████████| 4542/4542 [00:00<00:00, 4813170.48it/s]"
     ]
    },
    {
     "name": "stdout",
     "output_type": "stream",
     "text": [
      "Extracting mnist/MNIST/raw/t10k-labels-idx1-ubyte.gz to mnist/MNIST/raw\n",
      "\n",
      "Input shape: torch.Size([8, 1, 28, 28])\n",
      "Labels: tensor([2, 1, 4, 2, 0, 1, 0, 2])\n"
     ]
    },
    {
     "name": "stderr",
     "output_type": "stream",
     "text": [
      "\n"
     ]
    },
    {
     "data": {
      "image/png": "[encoded data removed]",
      "text/plain": [
       "<Figure size 640x480 with 1 Axes>"
      ]
     },
     "metadata": {},
     "output_type": "display_data"
    }
   ],
   "source": [
    "\n",
    "# Load the dataset\n",
    "dataset = torchvision.datasets.MNIST(root=\"mnist/\", train=True, download=True, transform=torchvision.transforms.ToTensor())\n",
    "\n",
    "# Feed it into a dataloader (batch size 8 here just for demo)\n",
    "train_dataloader = DataLoader(dataset, batch_size=8, shuffle=True)\n",
    "\n",
    "# View some examples\n",
    "x, y = next(iter(train_dataloader))\n",
    "print('Input shape:', x.shape)\n",
    "print('Labels:', y)\n",
    "plt.imshow(torchvision.utils.make_grid(x)[0], cmap='Greys');"
   ]
  },
  {
   "cell_type": "code",
   "execution_count": 47,
   "metadata": {},
   "outputs": [],
   "source": [
    "class ClassConditionedUnet(nn.Module):\n",
    "  def __init__(self, num_classes=10, class_emb_size=4):\n",
    "    super().__init__()\n",
    "    \n",
    "    # The embedding layer will map the class label to a vector of size class_emb_size\n",
    "    self.class_emb = nn.Embedding(num_classes, class_emb_size)\n",
    "\n",
    "    # Self.model is an unconditional UNet with extra input channels to accept the conditioning information (the class embedding)\n",
    "    self.model = UNet2DModel(\n",
    "        sample_size=28,           # the target image resolution\n",
    "        in_channels=1 + class_emb_size, # Additional input channels for class cond.\n",
    "        out_channels=1,           # the number of output channels\n",
    "        layers_per_block=2,       # how many ResNet layers to use per UNet block\n",
    "        block_out_channels=(32, 64, 64), \n",
    "        down_block_types=( \n",
    "            \"DownBlock2D\",        # a regular ResNet downsampling block\n",
    "            \"AttnDownBlock2D\",    # a ResNet downsampling block with spatial self-attention\n",
    "            \"AttnDownBlock2D\",\n",
    "        ), \n",
    "        up_block_types=(\n",
    "            \"AttnUpBlock2D\", \n",
    "            \"AttnUpBlock2D\",      # a ResNet upsampling block with spatial self-attention\n",
    "            \"UpBlock2D\",          # a regular ResNet upsampling block\n",
    "          ),\n",
    "    )\n",
    "\n",
    "  # Our forward method now takes the class labels as an additional argument\n",
    "  def forward(self, x, t, class_labels):\n",
    "    # Shape of x:\n",
    "    bs, ch, w, h = x.shape\n",
    "    \n",
    "    # class conditioning in right shape to add as additional input channels\n",
    "    class_cond = self.class_emb(class_labels) # Map to embedding dimension\n",
    "    class_cond = class_cond.view(bs, class_cond.shape[1], 1, 1).expand(bs, class_cond.shape[1], w, h)\n",
    "    # x is shape (bs, 1, 28, 28) and class_cond is now (bs, 4, 28, 28)\n",
    "\n",
    "    # Net input is now x and class cond concatenated together along dimension 1\n",
    "    net_input = torch.cat((x, class_cond), 1) # (bs, 5, 28, 28)\n",
    "\n",
    "    # Feed this to the UNet alongside the timestep and return the prediction\n",
    "    return self.model(net_input, t).sample # (bs, 1, 28, 28)"
   ]
  },
  {
   "cell_type": "code",
   "execution_count": null,
   "metadata": {},
   "outputs": [
    {
     "name": "stderr",
     "output_type": "stream",
     "text": [
      "100%|██████████| 469/469 [00:33<00:00, 13.94it/s]\n"
     ]
    },
    {
     "name": "stdout",
     "output_type": "stream",
     "text": [
      "Finished epoch 0. Average of the last 100 loss values: 0.052965\n"
     ]
    },
    {
     "name": "stderr",
     "output_type": "stream",
     "text": [
      "100%|██████████| 469/469 [00:33<00:00, 14.19it/s]\n"
     ]
    },
    {
     "name": "stdout",
     "output_type": "stream",
     "text": [
      "Finished epoch 1. Average of the last 100 loss values: 0.046416\n"
     ]
    },
    {
     "name": "stderr",
     "output_type": "stream",
     "text": [
      "100%|██████████| 469/469 [00:33<00:00, 14.05it/s]\n"
     ]
    },
    {
     "name": "stdout",
     "output_type": "stream",
     "text": [
      "Finished epoch 2. Average of the last 100 loss values: 0.044094\n"
     ]
    },
    {
     "name": "stderr",
     "output_type": "stream",
     "text": [
      "100%|██████████| 469/469 [00:33<00:00, 14.07it/s]\n"
     ]
    },
    {
     "name": "stdout",
     "output_type": "stream",
     "text": [
      "Finished epoch 3. Average of the last 100 loss values: 0.042591\n"
     ]
    },
    {
     "name": "stderr",
     "output_type": "stream",
     "text": [
      "100%|██████████| 469/469 [00:33<00:00, 14.02it/s]\n"
     ]
    },
    {
     "name": "stdout",
     "output_type": "stream",
     "text": [
      "Finished epoch 4. Average of the last 100 loss values: 0.041436\n"
     ]
    },
    {
     "name": "stderr",
     "output_type": "stream",
     "text": [
      "100%|██████████| 469/469 [00:33<00:00, 13.97it/s]\n"
     ]
    },
    {
     "name": "stdout",
     "output_type": "stream",
     "text": [
      "Finished epoch 5. Average of the last 100 loss values: 0.041199\n"
     ]
    },
    {
     "name": "stderr",
     "output_type": "stream",
     "text": [
      "100%|██████████| 469/469 [00:33<00:00, 13.93it/s]\n"
     ]
    },
    {
     "name": "stdout",
     "output_type": "stream",
     "text": [
      "Finished epoch 6. Average of the last 100 loss values: 0.040251\n"
     ]
    },
    {
     "name": "stderr",
     "output_type": "stream",
     "text": [
      "100%|██████████| 469/469 [00:33<00:00, 13.89it/s]\n"
     ]
    },
    {
     "name": "stdout",
     "output_type": "stream",
     "text": [
      "Finished epoch 7. Average of the last 100 loss values: 0.039607\n"
     ]
    },
    {
     "name": "stderr",
     "output_type": "stream",
     "text": [
      "100%|██████████| 469/469 [00:33<00:00, 13.88it/s]\n"
     ]
    },
    {
     "name": "stdout",
     "output_type": "stream",
     "text": [
      "Finished epoch 8. Average of the last 100 loss values: 0.038799\n"
     ]
    },
    {
     "name": "stderr",
     "output_type": "stream",
     "text": [
      "100%|██████████| 469/469 [00:33<00:00, 13.81it/s]"
     ]
    },
    {
     "name": "stdout",
     "output_type": "stream",
     "text": [
      "Finished epoch 9. Average of the last 100 loss values: 0.039131\n"
     ]
    },
    {
     "name": "stderr",
     "output_type": "stream",
     "text": [
      "\n"
     ]
    },
    {
     "data": {
      "text/plain": [
       "[<matplotlib.lines.Line2D at 0x7677703204f0>]"
      ]
     },
     "execution_count": 48,
     "metadata": {},
     "output_type": "execute_result"
    },
    {
     "data": {
      "image/png": "[encoded data removed]",
      "text/plain": [
       "<Figure size 640x480 with 1 Axes>"
      ]
     },
     "metadata": {},
     "output_type": "display_data"
    }
   ],
   "source": [
    "# Redefining the dataloader to set the batch size higher than the demo of 8\n",
    "train_dataloader = DataLoader(dataset, batch_size=128, shuffle=True)\n",
    "\n",
    "# How many runs through the data should we do?\n",
    "n_epochs = 10\n",
    "\n",
    "# Our network \n",
    "net = ClassConditionedUnet().to(device)\n",
    "\n",
    "# Our loss function\n",
    "loss_fn = nn.MSELoss()\n",
    "\n",
    "# The optimizer\n",
    "opt = torch.optim.Adam(net.parameters(), lr=1e-3) \n",
    "\n",
    "# Keeping a record of the losses for later viewing\n",
    "losses = []\n",
    "\n",
    "# The training loop\n",
    "for epoch in range(n_epochs):\n",
    "    for x, y in tqdm(train_dataloader):\n",
    "        \n",
    "        # Get some data and prepare the corrupted version\n",
    "        x = x.to(device) * 2 - 1 # Data on the GPU (mapped to (-1, 1))\n",
    "        y = y.to(device)\n",
    "        noise = torch.randn_like(x)\n",
    "        timesteps = torch.randint(0, 999, (x.shape[0],)).long().to(device)\n",
    "        noisy_x = noise_scheduler.add_noise(x, noise, timesteps)\n",
    "\n",
    "        # Get the model prediction\n",
    "        pred = net(noisy_x, timesteps, y) # Note that we pass in the labels y\n",
    "\n",
    "        # Calculate the loss\n",
    "        loss = loss_fn(pred, noise) # How close is the output to the noise\n",
    "\n",
    "        # Backprop and update the params:\n",
    "        opt.zero_grad()\n",
    "        loss.backward()\n",
    "        opt.step()\n",
    "\n",
    "        # Store the loss for later\n",
    "        losses.append(loss.item())\n",
    "\n",
    "    # Print out the average of the last 100 loss values to get an idea of progress:\n",
    "    avg_loss = sum(losses[-100:])/100\n",
    "    print(f'Finished epoch {epoch}. Average of the last 100 loss values: {avg_loss:05f}')\n",
    "\n",
    "# View the loss curve\n",
    "plt.plot(losses)"
   ]
  },
  {
   "cell_type": "markdown",
   "metadata": {},
   "source": [
    "# Sampling"
   ]
  },
  {
   "cell_type": "code",
   "execution_count": null,
   "metadata": {},
   "outputs": [],
   "source": [
    "\n",
    "#@markdown Sampling some different digits:\n",
    "\n",
    "# Prepare random x to start from, plus some desired labels y\n",
    "x = torch.randn(80, 1, 28, 28).to(device)\n",
    "y = torch.tensor([[i]*8 for i in range(10)]).flatten().to(device)\n",
    "\n",
    "# Sampling loop\n",
    "for i, t in tqdm(enumerate(noise_scheduler.timesteps)):\n",
    "\n",
    "    # Get model pred\n",
    "    with torch.no_grad():\n",
    "        residual = net(x, t, y)  # Again, note that we pass in our labels y\n",
    "\n",
    "    # Update sample with step\n",
    "    x = noise_scheduler.step(residual, t, x).prev_sample\n",
    "\n",
    "# Show the results\n",
    "fig, ax = plt.subplots(1, 1, figsize=(12, 12))\n",
    "ax.imshow(torchvision.utils.make_grid(x.detach().cpu().clip(-1, 1), nrow=8)[0], cmap='Greys')"
   ]
  },
  {
   "cell_type": "markdown",
   "metadata": {},
   "source": [
    "# Now break the above code"
   ]
  },
  {
   "cell_type": "code",
   "execution_count": 68,
   "metadata": {},
   "outputs": [],
   "source": [
    "class_emb_size = 1\n",
    "model = UNet2DModel(\n",
    "        sample_size=28,           # the target image resolution\n",
    "        in_channels=1 + class_emb_size, # Additional input channels for class cond.\n",
    "        out_channels=1,           # the number of output channels\n",
    "        layers_per_block=2,       # how many ResNet layers to use per UNet block\n",
    "        block_out_channels=(32, 64, 64), \n",
    "        down_block_types=( \n",
    "            \"DownBlock2D\",        # a regular ResNet downsampling block\n",
    "            \"AttnDownBlock2D\",    # a ResNet downsampling block with spatial self-attention\n",
    "            \"AttnDownBlock2D\",\n",
    "        ), \n",
    "        up_block_types=(\n",
    "            \"AttnUpBlock2D\", \n",
    "            \"AttnUpBlock2D\",      # a ResNet upsampling block with spatial self-attention\n",
    "            \"UpBlock2D\",          # a regular ResNet upsampling block\n",
    "          ),\n",
    "    ).to(device)"
   ]
  },
  {
   "cell_type": "code",
   "execution_count": 69,
   "metadata": {},
   "outputs": [],
   "source": [
    "train_dataset = ncDataset(x_train_patches, y_train_patches)\n",
    "val_dataset = ncDataset(x_val_patches, y_val_patches)\n",
    "test_dataset = ncDataset(x_val_patches, y_val_patches)"
   ]
  },
  {
   "cell_type": "code",
   "execution_count": 70,
   "metadata": {},
   "outputs": [],
   "source": [
    "train_dataloader = DataLoader(train_dataset, batch_size=20, shuffle=True)\n",
    "val_dataloader = DataLoader(val_dataset, batch_size=20, shuffle=True)\n",
    "test_dataloader = DataLoader(test_dataset, batch_size=20, shuffle=True)"
   ]
  },
  {
   "cell_type": "code",
   "execution_count": 74,
   "metadata": {},
   "outputs": [
    {
     "name": "stdout",
     "output_type": "stream",
     "text": [
      "Input.shape torch.Size([20, 1, 32, 32])\n",
      "Targets.shape torch.Size([20, 1, 32, 32])\n",
      "Noise.shape torch.Size([20, 1, 32, 32])\n",
      "Timesteps.shape, Timesteps: torch.Size([20]) tensor([ 97, 975, 846, 116, 998, 511, 199, 737, 959,   6,  85, 149, 344, 915,\n",
      "        527,  74, 204, 196, 413, 500], device='cuda:0')\n",
      "Noisy Input shape:  torch.Size([20, 1, 32, 32])\n",
      "Net input shape: torch.Size([20, 2, 32, 32])\n",
      "Pred shape: torch.Size([20, 1, 32, 32])\n"
     ]
    }
   ],
   "source": [
    "for batch in train_dataloader:\n",
    "    input, targets = batch\n",
    "    print('Input.shape', input.size())  # Should print torch.Size([16, 1, 30, 30])\n",
    "    print('Targets.shape', targets.size())  # Should print torch.Size([16, 1, 30, 601])\n",
    "    x = input.to(device)  # Data on the GPU (mapped to (-1, 1))\n",
    "    y = targets.to(device)\n",
    "    noise = torch.randn_like(x)\n",
    "    print('Noise.shape', noise.shape)\n",
    "    timesteps = torch.randint(0, 999, (x.shape[0],)).long().to(device)\n",
    "    print('Timesteps.shape, Timesteps:', timesteps.shape, timesteps)\n",
    "    noisy_x = noise_scheduler.add_noise(x, noise, timesteps)\n",
    "    print('Noisy Input shape: ',noisy_x.shape)\n",
    "    bs, ch, w, h = x.shape\n",
    "    net_input = torch.cat((noisy_x, y), 1) # (bs, 2, 28, 28)\n",
    "    print('Net input shape:', net_input.shape)\n",
    "    pred = model(net_input, timesteps).sample\n",
    "    print('Pred shape:', pred.shape)\n",
    "# Calculate the loss\n",
    "    loss = loss_fn(pred, noise) # How close is the output to the noise\n",
    "\n",
    "    # Backprop and update the params:\n",
    "    opt.zero_grad()\n",
    "    loss.backward()\n",
    "    opt.step()\n",
    "\n",
    "    # Store the loss for later\n",
    "    losses.append(loss.item())\n",
    "\n",
    "# # Print out the average of the last 100 loss values to get an idea of progress:\n",
    "# avg_loss = sum(losses[-100:])/100\n",
    "# print(f'Finished epoch {epoch}. Average of the last 100 loss values: {avg_loss:05f}')\n",
    "\n",
    "    break"
   ]
  },
  {
   "cell_type": "markdown",
   "metadata": {},
   "source": [
    "# Sampling"
   ]
  },
  {
   "cell_type": "code",
   "execution_count": null,
   "metadata": {},
   "outputs": [],
   "source": []
  },
  {
   "cell_type": "markdown",
   "metadata": {},
   "source": [
    "# It is important to take guidance of the hyperparameters from the papers that have performed well "
   ]
  },
  {
   "cell_type": "code",
   "execution_count": null,
   "metadata": {},
   "outputs": [],
   "source": []
  }
 ],
 "metadata": {
  "kernelspec": {
   "display_name": "Python 3 (ipykernel)",
   "language": "python",
   "name": "python3"
  },
  "language_info": {
   "codemirror_mode": {
    "name": "ipython",
    "version": 3
   },
   "file_extension": ".py",
   "mimetype": "text/x-python",
   "name": "python",
   "nbconvert_exporter": "python",
   "pygments_lexer": "ipython3",
   "version": "3.10.12"
  }
 },
 "nbformat": 4,
 "nbformat_minor": 2
}
